{
  "nbformat": 4,
  "nbformat_minor": 0,
  "metadata": {
    "colab": {
      "provenance": []
    },
    "kernelspec": {
      "name": "python3",
      "display_name": "Python 3"
    },
    "language_info": {
      "name": "python"
    }
  },
  "cells": [
    {
      "cell_type": "code",
      "execution_count": 12,
      "metadata": {
        "colab": {
          "base_uri": "https://localhost:8080/"
        },
        "id": "w9px06HY5Q6f",
        "outputId": "ea6ed7fc-2a0a-42ca-f0da-057707c3a7ef"
      },
      "outputs": [
        {
          "output_type": "stream",
          "name": "stdout",
          "text": [
            "['水', '金', '地', '火', '木', '土', '天', '海', '冥']\n",
            "['水', '金', '地', '火', '木', '土', '天', '海', '冥']\n"
          ]
        }
      ],
      "source": [
        "list = [\"水\",\"金\",\"地\",\"火\",\"木\",\"土\",\"天\",\"海\",\"冥\"]\n",
        "\n",
        "for i in range(2):\n",
        "  print(list)"
      ]
    },
    {
      "cell_type": "code",
      "source": [
        "list = [\"水\",\"金\",\"地\",\"火\",\"木\",\"土\",\"天\",\"海\",\"冥\"]\n",
        "\n",
        "i = 1\n",
        "\n",
        "while list != \"冥\":\n",
        "  if i == 3:\n",
        "    break\n",
        "\n",
        "  print(list)\n",
        "\n",
        "  i = i + 1"
      ],
      "metadata": {
        "colab": {
          "base_uri": "https://localhost:8080/"
        },
        "id": "NxoZWARc-YfL",
        "outputId": "fb35f53a-d5ca-477e-f965-5ab51fcd2723"
      },
      "execution_count": 22,
      "outputs": [
        {
          "output_type": "stream",
          "name": "stdout",
          "text": [
            "['水', '金', '地', '火', '木', '土', '天', '海', '冥']\n",
            "['水', '金', '地', '火', '木', '土', '天', '海', '冥']\n"
          ]
        }
      ]
    }
  ]
}